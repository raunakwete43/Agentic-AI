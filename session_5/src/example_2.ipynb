{
 "cells": [
  {
   "cell_type": "code",
   "execution_count": 1,
   "id": "4d4c8ebe",
   "metadata": {},
   "outputs": [],
   "source": [
    "from langchain_openai import ChatOpenAI\n",
    "from dotenv import load_dotenv\n",
    "import os\n",
    "from rich.pretty import pprint\n",
    "from rich.markdown import Markdown\n",
    "\n",
    "load_dotenv()\n",
    "\n",
    "\n",
    "MODEL = os.getenv(\"MODEL\", \"gemini-2.5-flash-lite\")\n",
    "BASE_URL = os.getenv(\"BASE_URL\")\n",
    "API_KEY = os.getenv(\"GEMINI_API_KEY\")"
   ]
  },
  {
   "cell_type": "code",
   "execution_count": 2,
   "id": "2bba895b",
   "metadata": {},
   "outputs": [
    {
     "name": "stdout",
     "output_type": "stream",
     "text": [
      "Hi there! How can I help you today?\n"
     ]
    }
   ],
   "source": [
    "llm = ChatOpenAI(\n",
    "    model=MODEL,\n",
    "    base_url=BASE_URL,\n",
    "    api_key=API_KEY,  # type: ignore\n",
    "    temperature=0,\n",
    ")\n",
    "\n",
    "print(llm.invoke(\"Hi!\").content)"
   ]
  },
  {
   "cell_type": "code",
   "execution_count": 3,
   "id": "497b836a",
   "metadata": {},
   "outputs": [],
   "source": [
    "from langgraph.graph import StateGraph, START, END\n",
    "from langchain_core.messages import HumanMessage, SystemMessage, BaseMessage"
   ]
  },
  {
   "cell_type": "code",
   "execution_count": 32,
   "id": "aa770fdb",
   "metadata": {},
   "outputs": [],
   "source": [
    "from typing import TypedDict, Annotated, NotRequired\n",
    "import operator\n",
    "\n",
    "class AgentState(TypedDict):\n",
    "    topic: str\n",
    "    jokes: NotRequired[Annotated[list[str], operator.add]]\n",
    "    final_joke: NotRequired[str]\n",
    "    # poem: NotRequired[str]\n",
    "    # joke: NotRequired[str]\n",
    "    # story: NotRequired[str]"
   ]
  },
  {
   "cell_type": "code",
   "execution_count": null,
   "id": "35622ba1",
   "metadata": {},
   "outputs": [],
   "source": [
    "def _generate_joke(state: AgentState):\n",
    "    joke = llm.invoke([HumanMessage(\n",
    "        content=f\"Tell me a joke about {state['topic']}\"\n",
    "    )])\n",
    "    return {\"joke\": joke.content}\n",
    "\n",
    "def _generate_poem(state: AgentState):\n",
    "    poem = llm.invoke([HumanMessage(\n",
    "        content=f\"Write a poem about {state['topic']}\"\n",
    "    )])\n",
    "    return {\"poem\": poem.content}\n",
    "\n",
    "def _generate_story(state: AgentState):\n",
    "    story = llm.invoke([HumanMessage(\n",
    "        content=f\"Write a short story about {state['topic']}\"\n",
    "    )])\n",
    "    return {\"story\": story.content}"
   ]
  },
  {
   "cell_type": "code",
   "execution_count": 27,
   "id": "985acc6f",
   "metadata": {},
   "outputs": [
    {
     "name": "stdout",
     "output_type": "stream",
     "text": [
      "              +-----------+                \n",
      "              | __start__ |                \n",
      "              +-----------+*               \n",
      "            **      *       **             \n",
      "         ***        *         ***          \n",
      "       **           *            **        \n",
      "+------+        +------+        +-------+  \n",
      "| joke |*       | poem |        | story |  \n",
      "+------+ ***    +------+      **+-------+  \n",
      "            **      *       **             \n",
      "              ***   *    ***               \n",
      "                 ** *  **                  \n",
      "               +---------+                 \n",
      "               | __end__ |                 \n",
      "               +---------+                 \n"
     ]
    }
   ],
   "source": [
    "graph = StateGraph(AgentState)\n",
    "\n",
    "graph.add_node(\"poem\", _generate_poem)\n",
    "graph.add_node(\"joke\", _generate_joke)\n",
    "graph.add_node(\"story\", _generate_story)\n",
    "\n",
    "graph.add_edge(START, \"poem\")\n",
    "graph.add_edge(START, \"joke\")\n",
    "graph.add_edge(START, \"story\")\n",
    "\n",
    "agent = graph.compile()\n",
    "# agent\n",
    "print(agent.get_graph().draw_ascii())"
   ]
  },
  {
   "cell_type": "code",
   "execution_count": 15,
   "id": "acde6c17",
   "metadata": {},
   "outputs": [],
   "source": [
    "response = agent.invoke({\"topic\":\"monsoon season\"})"
   ]
  },
  {
   "cell_type": "code",
   "execution_count": 16,
   "id": "c1d07de7",
   "metadata": {},
   "outputs": [
    {
     "name": "stdout",
     "output_type": "stream",
     "text": [
      "Poem: The sky, a canvas, bruised and grey,\n",
      "Holds its breath, then starts to sway.\n",
      "A whisper first, a gentle sigh,\n",
      "As clouds like giants drift on high.\n",
      "\n",
      "Then, a rumble, deep and low,\n",
      "A promise of the coming flow.\n",
      "The air grows thick, a humid kiss,\n",
      "Anticipating nature's bliss.\n",
      "\n",
      "And then it breaks, a sudden roar,\n",
      "The heavens open, and pour, and pour!\n",
      "A silver curtain, thick and vast,\n",
      "The world transformed, the die is cast.\n",
      "\n",
      "The parched earth drinks with thirsty greed,\n",
      "Each droplet planting life's new seed.\n",
      "The dust is washed, the air is clean,\n",
      "A vibrant, verdant, emerald scene.\n",
      "\n",
      "The leaves unfurl, a brighter green,\n",
      "The flowers bloom, a joyful queen.\n",
      "The rivers swell, a rushing might,\n",
      "Reflecting skies of stormy light.\n",
      "\n",
      "The scent of petrichor, so sweet,\n",
      "A fragrant balm for weary feet.\n",
      "The rhythm of the falling rain,\n",
      "A lullaby to ease all pain.\n",
      "\n",
      "Children splash in puddles deep,\n",
      "While weary souls find peaceful sleep.\n",
      "The world slows down, a gentle pause,\n",
      "Beneath the monsoon's ancient laws.\n",
      "\n",
      "The lightning cracks, a fiery streak,\n",
      "The thunder booms, a voice to speak.\n",
      "Of power, change, and nature's art,\n",
      "That stirs the soul and fills the heart.\n",
      "\n",
      "So let it fall, this blessed shower,\n",
      "Nourishing every leaf and flower.\n",
      "The monsoon's gift, a vibrant hue,\n",
      "Renewing life, for me and you.\n",
      "\n",
      "Joke: Why did the umbrella break up with the raincoat during monsoon season?\n",
      "\n",
      "Because it felt like their relationship was always going in circles, and the raincoat was always getting *too* close for comfort!\n",
      "\n",
      "Story: The air in the village of Aravalli had been thick and heavy for weeks, a suffocating blanket of anticipation. The sun, usually a benevolent presence, had become a relentless tyrant, baking the earth into cracked, dusty plains. The mango trees, their leaves brittle and curled, drooped in silent protest. Children, their usual boisterous energy subdued, sat in the shade of the banyan tree, their faces etched with a weariness that belied their years.\n",
      "\n",
      "Then, one sweltering afternoon, a whisper began. It started as a faint rustle in the distant hills, a murmur that grew into a low rumble. The sky, which had been a relentless, blinding blue, began to bruise. Dark, bruised clouds, heavy with the promise of relief, rolled in like an invading army.\n",
      "\n",
      "The first drop was a shock. It landed on Maya’s upturned palm, a cool, startling kiss. Then another, and another. Within minutes, the whisper became a roar. The heavens opened, unleashing a torrent of rain that hammered against the parched earth.\n",
      "\n",
      "The dust, which had coated everything in a fine, gritty layer, was instantly washed away. The air, once stifling, was now alive with the clean, earthy scent of petrichor. The dry riverbed, a scar across the landscape, began to swell, its muddy waters churning with newfound life.\n",
      "\n",
      "Children, their earlier lethargy forgotten, erupted from their shelters. They ran into the downpour, their laughter echoing through the drumming rain. They splashed in puddles, their bare feet kicking up miniature geysers. Maya, her sari clinging to her skin, joined them, her heart soaring with a joy she hadn't felt in months.\n",
      "\n",
      "The monsoon was more than just rain; it was a resurrection. The fields, once barren, would soon be lush and green. The wells, which had been dwindling, would be replenished. The farmers, their faces etched with worry, would now have hope.\n",
      "\n",
      "As the rain continued its relentless symphony, Maya stood on her doorstep, watching the world transform. The monsoon had arrived, and with it, a sense of renewal, a promise of life, and a deep, abiding gratitude for the cleansing, life-giving power of the rain. The heavy, expectant air had finally broken, replaced by the exhilarating, life-affirming breath of the monsoon.\n",
      "\n"
     ]
    }
   ],
   "source": [
    "print(f\"Poem: {response['poem']}\\n\")\n",
    "print(f\"Joke: {response['joke']}\\n\")\n",
    "print(f\"Story: {response['story']}\\n\")"
   ]
  },
  {
   "cell_type": "code",
   "execution_count": 33,
   "id": "4e7003b5",
   "metadata": {},
   "outputs": [],
   "source": [
    "def _gen_joke(state: AgentState):\n",
    "    joke = llm.invoke([HumanMessage(\n",
    "        content=f\"Tell me a joke about {state['topic']}\"\n",
    "    )])\n",
    "\n",
    "    return {\"jokes\": [joke.content]}"
   ]
  },
  {
   "cell_type": "code",
   "execution_count": 34,
   "id": "5202508f",
   "metadata": {},
   "outputs": [
    {
     "name": "stdout",
     "output_type": "stream",
     "text": [
      "                            +-----------+                              \n",
      "                            | __start__ |**                            \n",
      "                       *****+-----------+  *****                       \n",
      "                  *****       *         *       *****                  \n",
      "             *****          **           **          *****             \n",
      "          ***              *               *              ***          \n",
      "+--------+          +--------+          +--------+          +--------+ \n",
      "| joke_1 |***       | joke_2 |          | joke_3 |        **| joke_4 | \n",
      "+--------+   *****  +--------+          +--------+   *****  +--------+ \n",
      "                  *****       *         *       *****                  \n",
      "                       *****   **     **   *****                       \n",
      "                            ***  *   *  ***                            \n",
      "                              +---------+                              \n",
      "                              | __end__ |                              \n",
      "                              +---------+                              \n"
     ]
    }
   ],
   "source": [
    "graph = StateGraph(AgentState)\n",
    "\n",
    "graph.add_node(\"joke_1\", _gen_joke)\n",
    "graph.add_node(\"joke_2\", _gen_joke)\n",
    "graph.add_node(\"joke_3\", _gen_joke)\n",
    "graph.add_node(\"joke_4\", _gen_joke)\n",
    "\n",
    "graph.add_edge(START, \"joke_1\")\n",
    "graph.add_edge(START, \"joke_2\")\n",
    "graph.add_edge(START, \"joke_3\")\n",
    "graph.add_edge(START, \"joke_4\")\n",
    "\n",
    "agent = graph.compile()\n",
    "print(agent.get_graph().draw_ascii())"
   ]
  },
  {
   "cell_type": "code",
   "execution_count": 35,
   "id": "7e9b1ecb",
   "metadata": {},
   "outputs": [],
   "source": [
    "response = agent.invoke({\"topic\": \"monsoon\"})"
   ]
  },
  {
   "cell_type": "code",
   "execution_count": 38,
   "id": "af6d89de",
   "metadata": {},
   "outputs": [
    {
     "data": {
      "text/plain": [
       "4"
      ]
     },
     "execution_count": 38,
     "metadata": {},
     "output_type": "execute_result"
    }
   ],
   "source": [
    "len(response['jokes'])"
   ]
  }
 ],
 "metadata": {
  "kernelspec": {
   "display_name": "agentic-ai",
   "language": "python",
   "name": "python3"
  },
  "language_info": {
   "codemirror_mode": {
    "name": "ipython",
    "version": 3
   },
   "file_extension": ".py",
   "mimetype": "text/x-python",
   "name": "python",
   "nbconvert_exporter": "python",
   "pygments_lexer": "ipython3",
   "version": "3.12.3"
  }
 },
 "nbformat": 4,
 "nbformat_minor": 5
}
