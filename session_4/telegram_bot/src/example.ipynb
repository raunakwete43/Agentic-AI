{
 "cells": [
  {
   "cell_type": "code",
   "execution_count": 1,
   "id": "02333f3d",
   "metadata": {},
   "outputs": [
    {
     "name": "stdout",
     "output_type": "stream",
     "text": [
      "Hi there! How can I help you today?\n"
     ]
    }
   ],
   "source": [
    "from langchain_pymupdf4llm import PyMuPDF4LLMLoader\n",
    "from dotenv import load_dotenv\n",
    "from langchain_openai import ChatOpenAI\n",
    "import os\n",
    "from pydantic import BaseModel, Field\n",
    "from typing import Literal\n",
    "from rich.pretty import pprint\n",
    "\n",
    "load_dotenv()\n",
    "\n",
    "API_KEY = os.getenv(\"API_KEY\")\n",
    "MODEL = os.getenv(\"MODEL\", \"gemini-2.5-flash\")\n",
    "BASE_URL = os.getenv(\"BASE_URL\")\n",
    "\n",
    "\n",
    "llm = ChatOpenAI(\n",
    "    model=MODEL,\n",
    "    api_key=API_KEY, # type: ignore\n",
    "    base_url=BASE_URL,\n",
    "    temperature=0.1\n",
    ")\n",
    "\n",
    "print(llm.invoke(\"Hi\").content)"
   ]
  },
  {
   "cell_type": "code",
   "execution_count": 2,
   "id": "c7799dda",
   "metadata": {},
   "outputs": [],
   "source": [
    "file_path = \"./test_dir/Deep Learning Assignment 1.pdf\"\n",
    "\n",
    "loader = PyMuPDF4LLMLoader(file_path)\n",
    "data = loader.load()"
   ]
  },
  {
   "cell_type": "code",
   "execution_count": 3,
   "id": "68c4f0a7",
   "metadata": {},
   "outputs": [],
   "source": [
    "class DocumentInfo(BaseModel):\n",
    "    doc_type: Literal[\"experiment\", \"assignment\"]\n",
    "    subject: str\n",
    "    number: int = Field(..., gt=0)"
   ]
  },
  {
   "cell_type": "code",
   "execution_count": 4,
   "id": "9f979e37",
   "metadata": {},
   "outputs": [
    {
     "data": {
      "text/html": [
       "<pre style=\"white-space:pre;overflow-x:auto;line-height:normal;font-family:Menlo,'DejaVu Sans Mono',consolas,'Courier New',monospace\"><span style=\"color: #800080; text-decoration-color: #800080; font-weight: bold\">DocumentInfo</span><span style=\"font-weight: bold\">(</span><span style=\"color: #808000; text-decoration-color: #808000\">doc_type</span>=<span style=\"color: #008000; text-decoration-color: #008000\">'assignment'</span>, <span style=\"color: #808000; text-decoration-color: #808000\">subject</span>=<span style=\"color: #008000; text-decoration-color: #008000\">'Deep Learning'</span>, <span style=\"color: #808000; text-decoration-color: #808000\">number</span>=<span style=\"color: #008080; text-decoration-color: #008080; font-weight: bold\">1</span><span style=\"font-weight: bold\">)</span>\n",
       "</pre>\n"
      ],
      "text/plain": [
       "\u001b[1;35mDocumentInfo\u001b[0m\u001b[1m(\u001b[0m\u001b[33mdoc_type\u001b[0m=\u001b[32m'assignment'\u001b[0m, \u001b[33msubject\u001b[0m=\u001b[32m'Deep Learning'\u001b[0m, \u001b[33mnumber\u001b[0m=\u001b[1;36m1\u001b[0m\u001b[1m)\u001b[0m\n"
      ]
     },
     "metadata": {},
     "output_type": "display_data"
    }
   ],
   "source": [
    "response = await llm.with_structured_output(DocumentInfo).ainvoke(f\"\"\"\n",
    "Extract the following information from the document:\n",
    "1. Document Type: Whether the document is an \"experiment\" or an \"assignment\".\n",
    "2. Subject Name\n",
    "3. Document Number: The number associated with the document (e.g., Experiment 5, Assignment 3).                                                          \n",
    "\n",
    "# Document:\n",
    "{data[0].page_content}\n",
    "\"\"\")\n",
    "\n",
    "pprint(response)"
   ]
  },
  {
   "cell_type": "code",
   "execution_count": 5,
   "id": "609a25e1",
   "metadata": {},
   "outputs": [],
   "source": [
    "class Question(BaseModel):\n",
    "    question: str\n",
    "    marks: int = Field(..., gt=0)\n",
    "    requires_diagram: bool\n",
    "    question_number: str\n",
    "\n",
    "class Questions(BaseModel):\n",
    "    questions: list[Question]"
   ]
  },
  {
   "cell_type": "code",
   "execution_count": 6,
   "id": "2f143d9a",
   "metadata": {},
   "outputs": [],
   "source": [
    "content = \"\\n\".join([page.page_content for page in data])"
   ]
  },
  {
   "cell_type": "code",
   "execution_count": 7,
   "id": "d46c3709",
   "metadata": {},
   "outputs": [],
   "source": [
    "response = llm.with_structured_output(Questions).invoke(\n",
    "    f\"\"\"\n",
    "Extract all the questions from the document along with their marks, whether they require a diagram, and their question number.\n",
    "\n",
    "Only set requires_diagram to true if the question explicitly asks for a diagram.\n",
    "\n",
    "# Document:\n",
    "{content}\n",
    "\"\"\"\n",
    ")\n",
    "\n",
    "questions = Questions.model_validate(response)"
   ]
  },
  {
   "cell_type": "code",
   "execution_count": 8,
   "id": "0afc69c8",
   "metadata": {},
   "outputs": [
    {
     "data": {
      "text/html": [
       "<pre style=\"white-space:pre;overflow-x:auto;line-height:normal;font-family:Menlo,'DejaVu Sans Mono',consolas,'Courier New',monospace\"><span style=\"color: #800080; text-decoration-color: #800080; font-weight: bold\">Question</span><span style=\"font-weight: bold\">(</span>\n",
       "<span style=\"color: #7fbf7f; text-decoration-color: #7fbf7f\">│   </span><span style=\"color: #808000; text-decoration-color: #808000\">question</span>=<span style=\"color: #008000; text-decoration-color: #008000\">'Design and,or, xor gate using perception?'</span>,\n",
       "<span style=\"color: #7fbf7f; text-decoration-color: #7fbf7f\">│   </span><span style=\"color: #808000; text-decoration-color: #808000\">marks</span>=<span style=\"color: #008080; text-decoration-color: #008080; font-weight: bold\">5</span>,\n",
       "<span style=\"color: #7fbf7f; text-decoration-color: #7fbf7f\">│   </span><span style=\"color: #808000; text-decoration-color: #808000\">requires_diagram</span>=<span style=\"color: #ff0000; text-decoration-color: #ff0000; font-style: italic\">False</span>,\n",
       "<span style=\"color: #7fbf7f; text-decoration-color: #7fbf7f\">│   </span><span style=\"color: #808000; text-decoration-color: #808000\">question_number</span>=<span style=\"color: #008000; text-decoration-color: #008000\">'1a'</span>\n",
       "<span style=\"font-weight: bold\">)</span>\n",
       "</pre>\n"
      ],
      "text/plain": [
       "\u001b[1;35mQuestion\u001b[0m\u001b[1m(\u001b[0m\n",
       "\u001b[2;32m│   \u001b[0m\u001b[33mquestion\u001b[0m=\u001b[32m'Design and,or, xor gate using perception?'\u001b[0m,\n",
       "\u001b[2;32m│   \u001b[0m\u001b[33mmarks\u001b[0m=\u001b[1;36m5\u001b[0m,\n",
       "\u001b[2;32m│   \u001b[0m\u001b[33mrequires_diagram\u001b[0m=\u001b[3;91mFalse\u001b[0m,\n",
       "\u001b[2;32m│   \u001b[0m\u001b[33mquestion_number\u001b[0m=\u001b[32m'1a'\u001b[0m\n",
       "\u001b[1m)\u001b[0m\n"
      ]
     },
     "metadata": {},
     "output_type": "display_data"
    },
    {
     "data": {
      "text/html": [
       "<pre style=\"white-space:pre;overflow-x:auto;line-height:normal;font-family:Menlo,'DejaVu Sans Mono',consolas,'Courier New',monospace\"><span style=\"color: #800080; text-decoration-color: #800080; font-weight: bold\">Question</span><span style=\"font-weight: bold\">(</span>\n",
       "<span style=\"color: #7fbf7f; text-decoration-color: #7fbf7f\">│   </span><span style=\"color: #808000; text-decoration-color: #808000\">question</span>=<span style=\"color: #008000; text-decoration-color: #008000\">'Explain representation power of Multi Layer Perceptron'</span>,\n",
       "<span style=\"color: #7fbf7f; text-decoration-color: #7fbf7f\">│   </span><span style=\"color: #808000; text-decoration-color: #808000\">marks</span>=<span style=\"color: #008080; text-decoration-color: #008080; font-weight: bold\">5</span>,\n",
       "<span style=\"color: #7fbf7f; text-decoration-color: #7fbf7f\">│   </span><span style=\"color: #808000; text-decoration-color: #808000\">requires_diagram</span>=<span style=\"color: #ff0000; text-decoration-color: #ff0000; font-style: italic\">False</span>,\n",
       "<span style=\"color: #7fbf7f; text-decoration-color: #7fbf7f\">│   </span><span style=\"color: #808000; text-decoration-color: #808000\">question_number</span>=<span style=\"color: #008000; text-decoration-color: #008000\">'1b'</span>\n",
       "<span style=\"font-weight: bold\">)</span>\n",
       "</pre>\n"
      ],
      "text/plain": [
       "\u001b[1;35mQuestion\u001b[0m\u001b[1m(\u001b[0m\n",
       "\u001b[2;32m│   \u001b[0m\u001b[33mquestion\u001b[0m=\u001b[32m'Explain representation power of Multi Layer Perceptron'\u001b[0m,\n",
       "\u001b[2;32m│   \u001b[0m\u001b[33mmarks\u001b[0m=\u001b[1;36m5\u001b[0m,\n",
       "\u001b[2;32m│   \u001b[0m\u001b[33mrequires_diagram\u001b[0m=\u001b[3;91mFalse\u001b[0m,\n",
       "\u001b[2;32m│   \u001b[0m\u001b[33mquestion_number\u001b[0m=\u001b[32m'1b'\u001b[0m\n",
       "\u001b[1m)\u001b[0m\n"
      ]
     },
     "metadata": {},
     "output_type": "display_data"
    },
    {
     "data": {
      "text/html": [
       "<pre style=\"white-space:pre;overflow-x:auto;line-height:normal;font-family:Menlo,'DejaVu Sans Mono',consolas,'Courier New',monospace\"><span style=\"color: #800080; text-decoration-color: #800080; font-weight: bold\">Question</span><span style=\"font-weight: bold\">(</span>\n",
       "<span style=\"color: #7fbf7f; text-decoration-color: #7fbf7f\">│   </span><span style=\"color: #808000; text-decoration-color: #808000\">question</span>=<span style=\"color: #008000; text-decoration-color: #008000\">'What is regularization? Explain different regularization techniques.'</span>,\n",
       "<span style=\"color: #7fbf7f; text-decoration-color: #7fbf7f\">│   </span><span style=\"color: #808000; text-decoration-color: #808000\">marks</span>=<span style=\"color: #008080; text-decoration-color: #008080; font-weight: bold\">5</span>,\n",
       "<span style=\"color: #7fbf7f; text-decoration-color: #7fbf7f\">│   </span><span style=\"color: #808000; text-decoration-color: #808000\">requires_diagram</span>=<span style=\"color: #ff0000; text-decoration-color: #ff0000; font-style: italic\">False</span>,\n",
       "<span style=\"color: #7fbf7f; text-decoration-color: #7fbf7f\">│   </span><span style=\"color: #808000; text-decoration-color: #808000\">question_number</span>=<span style=\"color: #008000; text-decoration-color: #008000\">'2a'</span>\n",
       "<span style=\"font-weight: bold\">)</span>\n",
       "</pre>\n"
      ],
      "text/plain": [
       "\u001b[1;35mQuestion\u001b[0m\u001b[1m(\u001b[0m\n",
       "\u001b[2;32m│   \u001b[0m\u001b[33mquestion\u001b[0m=\u001b[32m'What is regularization? Explain different regularization techniques.'\u001b[0m,\n",
       "\u001b[2;32m│   \u001b[0m\u001b[33mmarks\u001b[0m=\u001b[1;36m5\u001b[0m,\n",
       "\u001b[2;32m│   \u001b[0m\u001b[33mrequires_diagram\u001b[0m=\u001b[3;91mFalse\u001b[0m,\n",
       "\u001b[2;32m│   \u001b[0m\u001b[33mquestion_number\u001b[0m=\u001b[32m'2a'\u001b[0m\n",
       "\u001b[1m)\u001b[0m\n"
      ]
     },
     "metadata": {},
     "output_type": "display_data"
    },
    {
     "data": {
      "text/html": [
       "<pre style=\"white-space:pre;overflow-x:auto;line-height:normal;font-family:Menlo,'DejaVu Sans Mono',consolas,'Courier New',monospace\"><span style=\"color: #800080; text-decoration-color: #800080; font-weight: bold\">Question</span><span style=\"font-weight: bold\">(</span>\n",
       "<span style=\"color: #7fbf7f; text-decoration-color: #7fbf7f\">│   </span><span style=\"color: #808000; text-decoration-color: #808000\">question</span>=<span style=\"color: #008000; text-decoration-color: #008000\">'What is optimization in deep neural network?What are the different optimization techniques ?Explain following :-Gradient descent,momentum gradient descent,Nesterov accelerated gradient,adagrad,Adam.'</span>,\n",
       "<span style=\"color: #7fbf7f; text-decoration-color: #7fbf7f\">│   </span><span style=\"color: #808000; text-decoration-color: #808000\">marks</span>=<span style=\"color: #008080; text-decoration-color: #008080; font-weight: bold\">5</span>,\n",
       "<span style=\"color: #7fbf7f; text-decoration-color: #7fbf7f\">│   </span><span style=\"color: #808000; text-decoration-color: #808000\">requires_diagram</span>=<span style=\"color: #ff0000; text-decoration-color: #ff0000; font-style: italic\">False</span>,\n",
       "<span style=\"color: #7fbf7f; text-decoration-color: #7fbf7f\">│   </span><span style=\"color: #808000; text-decoration-color: #808000\">question_number</span>=<span style=\"color: #008000; text-decoration-color: #008000\">'2b'</span>\n",
       "<span style=\"font-weight: bold\">)</span>\n",
       "</pre>\n"
      ],
      "text/plain": [
       "\u001b[1;35mQuestion\u001b[0m\u001b[1m(\u001b[0m\n",
       "\u001b[2;32m│   \u001b[0m\u001b[33mquestion\u001b[0m=\u001b[32m'What is optimization in deep neural network?What are the different optimization techniques ?Explain following :-Gradient descent,momentum gradient descent,Nesterov accelerated gradient,adagrad,Adam.'\u001b[0m,\n",
       "\u001b[2;32m│   \u001b[0m\u001b[33mmarks\u001b[0m=\u001b[1;36m5\u001b[0m,\n",
       "\u001b[2;32m│   \u001b[0m\u001b[33mrequires_diagram\u001b[0m=\u001b[3;91mFalse\u001b[0m,\n",
       "\u001b[2;32m│   \u001b[0m\u001b[33mquestion_number\u001b[0m=\u001b[32m'2b'\u001b[0m\n",
       "\u001b[1m)\u001b[0m\n"
      ]
     },
     "metadata": {},
     "output_type": "display_data"
    },
    {
     "data": {
      "text/html": [
       "<pre style=\"white-space:pre;overflow-x:auto;line-height:normal;font-family:Menlo,'DejaVu Sans Mono',consolas,'Courier New',monospace\"><span style=\"color: #800080; text-decoration-color: #800080; font-weight: bold\">Question</span><span style=\"font-weight: bold\">(</span>\n",
       "<span style=\"color: #7fbf7f; text-decoration-color: #7fbf7f\">│   </span><span style=\"color: #808000; text-decoration-color: #808000\">question</span>=<span style=\"color: #008000; text-decoration-color: #008000\">'What is activation function? Explain any four activation function.'</span>,\n",
       "<span style=\"color: #7fbf7f; text-decoration-color: #7fbf7f\">│   </span><span style=\"color: #808000; text-decoration-color: #808000\">marks</span>=<span style=\"color: #008080; text-decoration-color: #008080; font-weight: bold\">5</span>,\n",
       "<span style=\"color: #7fbf7f; text-decoration-color: #7fbf7f\">│   </span><span style=\"color: #808000; text-decoration-color: #808000\">requires_diagram</span>=<span style=\"color: #ff0000; text-decoration-color: #ff0000; font-style: italic\">False</span>,\n",
       "<span style=\"color: #7fbf7f; text-decoration-color: #7fbf7f\">│   </span><span style=\"color: #808000; text-decoration-color: #808000\">question_number</span>=<span style=\"color: #008000; text-decoration-color: #008000\">'2c'</span>\n",
       "<span style=\"font-weight: bold\">)</span>\n",
       "</pre>\n"
      ],
      "text/plain": [
       "\u001b[1;35mQuestion\u001b[0m\u001b[1m(\u001b[0m\n",
       "\u001b[2;32m│   \u001b[0m\u001b[33mquestion\u001b[0m=\u001b[32m'What is activation function? Explain any four activation function.'\u001b[0m,\n",
       "\u001b[2;32m│   \u001b[0m\u001b[33mmarks\u001b[0m=\u001b[1;36m5\u001b[0m,\n",
       "\u001b[2;32m│   \u001b[0m\u001b[33mrequires_diagram\u001b[0m=\u001b[3;91mFalse\u001b[0m,\n",
       "\u001b[2;32m│   \u001b[0m\u001b[33mquestion_number\u001b[0m=\u001b[32m'2c'\u001b[0m\n",
       "\u001b[1m)\u001b[0m\n"
      ]
     },
     "metadata": {},
     "output_type": "display_data"
    },
    {
     "data": {
      "text/html": [
       "<pre style=\"white-space:pre;overflow-x:auto;line-height:normal;font-family:Menlo,'DejaVu Sans Mono',consolas,'Courier New',monospace\"><span style=\"color: #800080; text-decoration-color: #800080; font-weight: bold\">Question</span><span style=\"font-weight: bold\">(</span>\n",
       "<span style=\"color: #7fbf7f; text-decoration-color: #7fbf7f\">│   </span><span style=\"color: #808000; text-decoration-color: #808000\">question</span>=<span style=\"color: #008000; text-decoration-color: #008000\">'With suitable diagram explains the architecture of auto encoder with all layers in it.'</span>,\n",
       "<span style=\"color: #7fbf7f; text-decoration-color: #7fbf7f\">│   </span><span style=\"color: #808000; text-decoration-color: #808000\">marks</span>=<span style=\"color: #008080; text-decoration-color: #008080; font-weight: bold\">5</span>,\n",
       "<span style=\"color: #7fbf7f; text-decoration-color: #7fbf7f\">│   </span><span style=\"color: #808000; text-decoration-color: #808000\">requires_diagram</span>=<span style=\"color: #00ff00; text-decoration-color: #00ff00; font-style: italic\">True</span>,\n",
       "<span style=\"color: #7fbf7f; text-decoration-color: #7fbf7f\">│   </span><span style=\"color: #808000; text-decoration-color: #808000\">question_number</span>=<span style=\"color: #008000; text-decoration-color: #008000\">'3a'</span>\n",
       "<span style=\"font-weight: bold\">)</span>\n",
       "</pre>\n"
      ],
      "text/plain": [
       "\u001b[1;35mQuestion\u001b[0m\u001b[1m(\u001b[0m\n",
       "\u001b[2;32m│   \u001b[0m\u001b[33mquestion\u001b[0m=\u001b[32m'With suitable diagram explains the architecture of auto encoder with all layers in it.'\u001b[0m,\n",
       "\u001b[2;32m│   \u001b[0m\u001b[33mmarks\u001b[0m=\u001b[1;36m5\u001b[0m,\n",
       "\u001b[2;32m│   \u001b[0m\u001b[33mrequires_diagram\u001b[0m=\u001b[3;92mTrue\u001b[0m,\n",
       "\u001b[2;32m│   \u001b[0m\u001b[33mquestion_number\u001b[0m=\u001b[32m'3a'\u001b[0m\n",
       "\u001b[1m)\u001b[0m\n"
      ]
     },
     "metadata": {},
     "output_type": "display_data"
    },
    {
     "data": {
      "text/html": [
       "<pre style=\"white-space:pre;overflow-x:auto;line-height:normal;font-family:Menlo,'DejaVu Sans Mono',consolas,'Courier New',monospace\"><span style=\"color: #800080; text-decoration-color: #800080; font-weight: bold\">Question</span><span style=\"font-weight: bold\">(</span>\n",
       "<span style=\"color: #7fbf7f; text-decoration-color: #7fbf7f\">│   </span><span style=\"color: #808000; text-decoration-color: #808000\">question</span>=<span style=\"color: #008000; text-decoration-color: #008000\">'List different types of auto encoders.Explain any three of them.'</span>,\n",
       "<span style=\"color: #7fbf7f; text-decoration-color: #7fbf7f\">│   </span><span style=\"color: #808000; text-decoration-color: #808000\">marks</span>=<span style=\"color: #008080; text-decoration-color: #008080; font-weight: bold\">5</span>,\n",
       "<span style=\"color: #7fbf7f; text-decoration-color: #7fbf7f\">│   </span><span style=\"color: #808000; text-decoration-color: #808000\">requires_diagram</span>=<span style=\"color: #ff0000; text-decoration-color: #ff0000; font-style: italic\">False</span>,\n",
       "<span style=\"color: #7fbf7f; text-decoration-color: #7fbf7f\">│   </span><span style=\"color: #808000; text-decoration-color: #808000\">question_number</span>=<span style=\"color: #008000; text-decoration-color: #008000\">'3b'</span>\n",
       "<span style=\"font-weight: bold\">)</span>\n",
       "</pre>\n"
      ],
      "text/plain": [
       "\u001b[1;35mQuestion\u001b[0m\u001b[1m(\u001b[0m\n",
       "\u001b[2;32m│   \u001b[0m\u001b[33mquestion\u001b[0m=\u001b[32m'List different types of auto encoders.Explain any three of them.'\u001b[0m,\n",
       "\u001b[2;32m│   \u001b[0m\u001b[33mmarks\u001b[0m=\u001b[1;36m5\u001b[0m,\n",
       "\u001b[2;32m│   \u001b[0m\u001b[33mrequires_diagram\u001b[0m=\u001b[3;91mFalse\u001b[0m,\n",
       "\u001b[2;32m│   \u001b[0m\u001b[33mquestion_number\u001b[0m=\u001b[32m'3b'\u001b[0m\n",
       "\u001b[1m)\u001b[0m\n"
      ]
     },
     "metadata": {},
     "output_type": "display_data"
    }
   ],
   "source": [
    "for question in questions.questions:\n",
    "    pprint(question)"
   ]
  },
  {
   "cell_type": "code",
   "execution_count": 9,
   "id": "f82fd640",
   "metadata": {},
   "outputs": [],
   "source": [
    "def num_points(marks: int) -> int:\n",
    "    return marks * 2"
   ]
  },
  {
   "cell_type": "code",
   "execution_count": 10,
   "id": "6a000c35",
   "metadata": {},
   "outputs": [],
   "source": [
    "class Answer(BaseModel):\n",
    "    answer: str\n",
    "    diagram_description: str | None"
   ]
  },
  {
   "cell_type": "code",
   "execution_count": 11,
   "id": "fa7a018e",
   "metadata": {},
   "outputs": [],
   "source": [
    "prompt = \"\"\"\n",
    "For the following question answer in point format.\n",
    "If the question requires a diagram, provide a brief description of the diagram that would best illustrate the answer.\n",
    "The number of points must be {points}\n",
    "\n",
    "# Question:\n",
    "{question}\n",
    "\n",
    "# Requires Diagram: {requires_diagram}\n",
    "\"\"\"\n",
    "\n",
    "response = llm.with_structured_output(Answer).invoke(\n",
    "    prompt.format(\n",
    "        question=questions.questions[-2].question,\n",
    "        requires_diagram=questions.questions[-2].requires_diagram,\n",
    "        points=num_points(questions.questions[-2].marks)\n",
    "    )\n",
    ")"
   ]
  },
  {
   "cell_type": "code",
   "execution_count": 12,
   "id": "8b02c1f5",
   "metadata": {},
   "outputs": [
    {
     "name": "stdout",
     "output_type": "stream",
     "text": [
      "An autoencoder is a type of artificial neural network used for unsupervised learning of efficient data codings. It works by compressing the input data into a lower-dimensional latent representation and then reconstructing the original data from this representation. The architecture typically consists of three main parts: an encoder, a bottleneck (or latent space), and a decoder.\n",
      "\n",
      "1.  **Encoder:** This part of the autoencoder takes the input data and progressively reduces its dimensionality through a series of layers (e.g., dense, convolutional, recurrent). Each layer transforms the input into a more abstract and compressed representation.\n",
      "2.  **Bottleneck (Latent Space):** This is the central layer of the autoencoder, representing the compressed, lower-dimensional encoding of the input data. It captures the most important features of the data.\n",
      "3.  **Decoder:** This part takes the compressed representation from the bottleneck and progressively reconstructs the original input data. It uses a series of layers that mirror the encoder's structure but in reverse, aiming to expand the dimensionality back to the original input size.\n",
      "4.  **Input Layer:** The layer that receives the raw input data. Its dimensionality is the same as the original data.\n",
      "5.  **Hidden Layers (Encoder):** These layers in the encoder progressively reduce the dimensionality of the data, learning to extract salient features.\n",
      "6.  **Latent Representation (Bottleneck):** The output of the encoder, a compact vector that summarizes the input data.\n",
      "7.  **Hidden Layers (Decoder):** These layers in the decoder progressively increase the dimensionality, using the latent representation to reconstruct the input.\n",
      "8.  **Output Layer:** The layer that produces the reconstructed data. Its dimensionality is the same as the input layer.\n",
      "9.  **Activation Functions:** Non-linear functions (e.g., ReLU, sigmoid, tanh) applied to the outputs of neurons in each layer to introduce non-linearity, enabling the network to learn complex patterns.\n",
      "10. **Loss Function:** A function (e.g., Mean Squared Error, Binary Cross-Entropy) used to measure the difference between the original input and the reconstructed output, guiding the training process to minimize reconstruction error.\n"
     ]
    }
   ],
   "source": [
    "print(response.answer)"
   ]
  },
  {
   "cell_type": "code",
   "execution_count": 13,
   "id": "019a96c0",
   "metadata": {},
   "outputs": [
    {
     "name": "stdout",
     "output_type": "stream",
     "text": [
      "A diagram illustrating the architecture of an autoencoder. It shows an input layer on the left, followed by several progressively smaller hidden layers representing the encoder. These lead to a single, narrow bottleneck layer (the latent space). From the bottleneck, the layers expand in size, mirroring the encoder, representing the decoder. Finally, an output layer on the right reconstructs the input. Arrows indicate the flow of data from input through encoder to bottleneck, and then through decoder to output.\n"
     ]
    }
   ],
   "source": [
    "print(response.diagram_description)"
   ]
  }
 ],
 "metadata": {
  "kernelspec": {
   "display_name": "sample",
   "language": "python",
   "name": "python3"
  },
  "language_info": {
   "codemirror_mode": {
    "name": "ipython",
    "version": 3
   },
   "file_extension": ".py",
   "mimetype": "text/x-python",
   "name": "python",
   "nbconvert_exporter": "python",
   "pygments_lexer": "ipython3",
   "version": "3.12.11"
  }
 },
 "nbformat": 4,
 "nbformat_minor": 5
}
